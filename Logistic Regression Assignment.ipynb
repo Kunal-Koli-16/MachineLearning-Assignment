{
 "cells": [
  {
   "cell_type": "markdown",
   "id": "40fac349",
   "metadata": {},
   "source": [
    "# Theoretical of Logistic Regression"
   ]
  },
  {
   "cell_type": "code",
   "execution_count": 3,
   "id": "e3ef56d9",
   "metadata": {},
   "outputs": [
    {
     "data": {
      "text/plain": [
       "'\\nIn Logistic Regression, the coefficients represent the change in the log-odds of the outcome for a one-unit increase in the predictor variable, holding all other variables constant. \\nA positive coefficient indicates that as the predictor increases, the probability of the outcome occurring increases, while a negative coefficient indicates a decrease in probability.\\n'"
      ]
     },
     "execution_count": 3,
     "metadata": {},
     "output_type": "execute_result"
    }
   ],
   "source": [
    "# Logistic Regression and Related Concepts\n",
    "\n",
    "# 1. What is Logistic Regression, and how does it differ from Linear Regression?\n",
    "\"\"\"\n",
    "Logistic Regression is a statistical method used for binary classification problems, where the outcome variable is categorical (typically 0 or 1). \n",
    "It predicts the probability that a given input point belongs to a certain class.\n",
    "\n",
    "Difference from Linear Regression:\n",
    "- Output: Linear regression predicts continuous values, while logistic regression predicts probabilities (between 0 and 1).\n",
    "- Function: Linear regression uses a linear function, whereas logistic regression uses the logistic (sigmoid) function to map predicted values to probabilities.\n",
    "\"\"\"\n",
    "\n",
    "# 2. What is the mathematical equation of Logistic Regression?\n",
    "\"\"\"\n",
    "The mathematical equation for logistic regression is:\n",
    "\n",
    "P(Y=1|X) = 1 / (1 + e^-(β0 + β1X1 + β2X2 + ... + βnXn))\n",
    "\n",
    "Where:\n",
    "- P(Y=1|X) is the probability that the output Y is 1 given input features X.\n",
    "- β0 is the intercept.\n",
    "- β1, β2, ..., βn are the coefficients for the features X1, X2, ..., Xn.\n",
    "\"\"\"\n",
    "\n",
    "# 3. Why do we use the Sigmoid function in Logistic Regression?\n",
    "\"\"\"\n",
    "The sigmoid function is used in logistic regression because it maps any real-valued number into the range (0, 1). \n",
    "This is essential for interpreting the output as a probability, which can then be thresholded to make binary classification decisions.\n",
    "\"\"\"\n",
    "\n",
    "# 4. What is the cost function of Logistic Regression?\n",
    "\"\"\"\n",
    "The cost function for logistic regression is the logistic loss (also known as binary cross-entropy loss):\n",
    "\n",
    "J(β) = -1/m * Σ [y^(i) log(h_β(x^(i))) + (1 - y^(i)) log(1 - h_β(x^(i)))]\n",
    "\n",
    "Where:\n",
    "- m is the number of training examples.\n",
    "- y^(i) is the actual label (0 or 1).\n",
    "- h_β(x^(i)) is the predicted probability for the i-th example.\n",
    "\"\"\"\n",
    "\n",
    "# 5. What is Regularization in Logistic Regression? Why is it needed?\n",
    "\"\"\"\n",
    "Regularization is a technique used to prevent overfitting by adding a penalty term to the cost function. \n",
    "It helps to constrain the model complexity.\n",
    "\n",
    "- L1 Regularization (Lasso): Adds the absolute value of the coefficients as a penalty.\n",
    "- L2 Regularization (Ridge): Adds the square of the coefficients as a penalty.\n",
    "\n",
    "Regularization is needed to improve the model's generalization to unseen data.\n",
    "\"\"\"\n",
    "\n",
    "# 6. Explain the difference between Lasso, Ridge, and Elastic Net regression.\n",
    "\"\"\"\n",
    "- Lasso Regression (L1): Adds an L1 penalty, which can lead to sparse models (some coefficients can be exactly zero).\n",
    "- Ridge Regression (L2): Adds an L2 penalty, which shrinks coefficients but does not set them to zero.\n",
    "- Elastic Net: Combines both L1 and L2 penalties, allowing for both feature selection and coefficient shrinkage.\n",
    "\"\"\"\n",
    "\n",
    "# 7. When should we use Elastic Net instead of Lasso or Ridge?\n",
    "\"\"\"\n",
    "Elastic Net should be used when:\n",
    "- There are multiple features that are correlated with each other.\n",
    "- You want to benefit from both L1 and L2 regularization.\n",
    "- You have a high-dimensional dataset where Lasso might select too few features.\n",
    "\"\"\"\n",
    "\n",
    "# 8. What is the impact of the regularization parameter (λ) in Logistic Regression?\n",
    "\"\"\"\n",
    "The regularization parameter (λ) controls the strength of the penalty applied to the coefficients:\n",
    "- A larger λ increases the penalty, leading to more regularization and potentially simpler models.\n",
    "- A smaller λ reduces the penalty, allowing the model to fit the training data more closely, which may lead to overfitting.\n",
    "\"\"\"\n",
    "\n",
    "# 9. What are the key assumptions of Logistic Regression?\n",
    "\"\"\"\n",
    "Key assumptions of Logistic Regression include:\n",
    "- The dependent variable is binary.\n",
    "- The observations are independent.\n",
    "- There is a linear relationship between the logit of the outcome and the independent variables.\n",
    "- No multicollinearity among the independent variables.\n",
    "\"\"\"\n",
    "\n",
    "# 10. What are some alternatives to Logistic Regression for classification tasks?\n",
    "\"\"\"\n",
    "Alternatives to Logistic Regression include:\n",
    "- Decision Trees\n",
    "- Random Forests\n",
    "- Support Vector Machines (SVM)\n",
    "- k-Nearest Neighbors (k-NN)\n",
    "- Neural Networks\n",
    "\"\"\"\n",
    "\n",
    "# 11. What are Classification Evaluation Metrics?\n",
    "\"\"\"\n",
    "Common classification evaluation metrics include:\n",
    "- Accuracy\n",
    "- Precision\n",
    "- Recall (Sensitivity)\n",
    "- F1 Score\n",
    "- ROC-AUC (Receiver Operating Characteristic - Area Under Curve)\n",
    "\"\"\"\n",
    "\n",
    "# 12. How does class imbalance affect Logistic Regression?\n",
    "\"\"\"\n",
    "Class imbalance can lead to biased predictions, where the model may favor the majority class. \n",
    "This can result in high accuracy but poor performance on the minority class. \n",
    "To mitigate this, techniques such as resampling (oversampling the minority class or undersampling the majority class), \n",
    "using different evaluation metrics (like F1 score), or applying class weights can be employed.\n",
    "\"\"\"\n",
    "\n",
    "# 13. What is Hyperparameter Tuning in Logistic Regression?\n",
    "\"\"\"\n",
    "Hyperparameter tuning involves optimizing the parameters that govern the learning process of the model, \n",
    "such as the regularization strength (λ) and the choice of solver. \n",
    "Techniques like Grid Search, Random Search, or Bayesian Optimization can be used to find the best combination of hyperparameters \n",
    "to improve model performance.\n",
    "\"\"\"\n",
    "\n",
    "# 14. What are different solvers in Logistic Regression? Which one should be used?\n",
    "\"\"\"\n",
    "Common solvers for Logistic Regression include:\n",
    "- 'liblinear': Good for small datasets and supports L1 regularization.\n",
    "- 'newton-cg': Suitable for large datasets and supports L2 regularization.\n",
    "- 'lbfgs': An optimization algorithm that is efficient for large datasets and supports L2 regularization.\n",
    "- 'sag': Stochastic Average Gradient descent, suitable for large datasets.\n",
    "- 'saga': Similar to 'sag' but supports L1 regularization.\n",
    "\n",
    "The choice of solver depends on the dataset size and the type of regularization required. \n",
    "For small datasets, 'liblinear' is often a good choice, while 'lbfgs' is preferred for larger datasets.\n",
    "\"\"\"\n",
    "\n",
    "# 15. How is Logistic Regression extended for multiclass classification?\n",
    "\"\"\"\n",
    "Logistic Regression can be extended for multiclass classification using two main approaches:\n",
    "- One-vs-Rest (OvR): A separate binary classifier is trained for each class, treating it as the positive class and all others as negative.\n",
    "- Softmax Regression: A generalization of logistic regression that uses the softmax function to predict probabilities for multiple classes simultaneously.\n",
    "\"\"\"\n",
    "\n",
    "# 16. What are the advantages and disadvantages of Logistic Regression?\n",
    "\"\"\"\n",
    "Advantages:\n",
    "- Simple and easy to implement.\n",
    "- Interpretable coefficients.\n",
    "- Works well with linearly separable data.\n",
    "- Efficient for binary and multiclass classification.\n",
    "\n",
    "Disadvantages:\n",
    "- Assumes a linear relationship between the independent variables and the log-odds of the dependent variable.\n",
    "- Sensitive to outliers.\n",
    "- May not perform well with complex relationships or non-linear data.\n",
    "\"\"\"\n",
    "\n",
    "# 17. What are some use cases of Logistic Regression?\n",
    "\"\"\"\n",
    "Use cases of Logistic Regression include:\n",
    "- Medical diagnosis (e.g., predicting the presence of a disease).\n",
    "- Credit scoring (e.g., predicting loan default).\n",
    "- Marketing (e.g., predicting customer churn).\n",
    "- Spam detection (e.g., classifying emails as spam or not).\n",
    "\"\"\"\n",
    "\n",
    "# 18. What is the difference between Softmax Regression and Logistic Regression?\n",
    "\"\"\"\n",
    "Softmax Regression is a generalization of Logistic Regression for multiclass classification. \n",
    "While Logistic Regression is used for binary classification, Softmax Regression can handle multiple classes by outputting a probability distribution across all classes using the softmax function.\n",
    "\"\"\"\n",
    "\n",
    "# 19. How do we choose between One-vs-Rest (OvR) and Softmax for multiclass classification?\n",
    "\"\"\"\n",
    "Choosing between OvR and Softmax depends on:\n",
    "- The number of classes: For a large number of classes, Softmax may be more efficient.\n",
    "- The nature of the problem: If classes are not mutually exclusive, OvR may be more appropriate.\n",
    "- Computational resources: Softmax can be computationally intensive for very large datasets.\n",
    "\"\"\"\n",
    "\n",
    "# 20. How do we interpret coefficients in Logistic Regression?\n",
    "\"\"\"\n",
    "In Logistic Regression, the coefficients represent the change in the log-odds of the outcome for a one-unit increase in the predictor variable, holding all other variables constant. \n",
    "A positive coefficient indicates that as the predictor increases, the probability of the outcome occurring increases, while a negative coefficient indicates a decrease in probability.\n",
    "\"\"\""
   ]
  },
  {
   "cell_type": "markdown",
   "id": "6783a489",
   "metadata": {},
   "source": [
    "# Practical of Logistic Regression"
   ]
  },
  {
   "cell_type": "code",
   "execution_count": 4,
   "id": "fe74666f",
   "metadata": {},
   "outputs": [
    {
     "name": "stdout",
     "output_type": "stream",
     "text": [
      "Model Accuracy: 1.00\n"
     ]
    }
   ],
   "source": [
    "# Import necessary libraries\n",
    "import pandas as pd\n",
    "import numpy as np\n",
    "from sklearn.model_selection import train_test_split, GridSearchCV, StratifiedKFold\n",
    "from sklearn.linear_model import LogisticRegression\n",
    "from sklearn.datasets import load_iris\n",
    "from sklearn.metrics import accuracy_score\n",
    "\n",
    "# 1. Load a dataset, split it into training and testing sets, apply Logistic Regression, and print the model accuracy\n",
    "# Using the Iris dataset for demonstration\n",
    "iris = load_iris()\n",
    "X, y = iris.data, iris.target\n",
    "\n",
    "# Split the dataset\n",
    "X_train, X_test, y_train, y_test = train_test_split(X, y, test_size=0.2, random_state=42)\n",
    "\n",
    "# Apply Logistic Regression\n",
    "model = LogisticRegression(max_iter=200)\n",
    "model.fit(X_train, y_train)\n",
    "y_pred = model.predict(X_test)\n",
    "\n",
    "# Print model accuracy\n",
    "accuracy = accuracy_score(y_test, y_pred)\n",
    "print(f\"Model Accuracy: {accuracy:.2f}\")"
   ]
  },
  {
   "cell_type": "code",
   "execution_count": 5,
   "id": "c195d754",
   "metadata": {},
   "outputs": [
    {
     "name": "stdout",
     "output_type": "stream",
     "text": [
      "L1 Regularization Model Accuracy: 1.00\n"
     ]
    }
   ],
   "source": [
    "# 2. Apply L1 regularization (Lasso) on a dataset using LogisticRegression(penalty='l1') and print the model accuracy\n",
    "model_l1 = LogisticRegression(penalty='l1', solver='liblinear', max_iter=200)\n",
    "model_l1.fit(X_train, y_train)\n",
    "y_pred_l1 = model_l1.predict(X_test)\n",
    "\n",
    "# Print model accuracy\n",
    "accuracy_l1 = accuracy_score(y_test, y_pred_l1)\n",
    "print(f\"L1 Regularization Model Accuracy: {accuracy_l1:.2f}\")\n"
   ]
  },
  {
   "cell_type": "code",
   "execution_count": 6,
   "id": "81ea3bfc",
   "metadata": {},
   "outputs": [
    {
     "name": "stdout",
     "output_type": "stream",
     "text": [
      "L2 Regularization Model Accuracy: 1.00\n",
      "L2 Coefficients: [[-0.39705946  0.96066053 -2.37396368 -1.00330112]\n",
      " [ 0.51283652 -0.25352109 -0.21527075 -0.76918663]\n",
      " [-0.11577705 -0.70713943  2.58923443  1.77248775]]\n"
     ]
    }
   ],
   "source": [
    "# 3. Train Logistic Regression with L2 regularization (Ridge) using LogisticRegression(penalty='l2'). Print model accuracy and coefficients\n",
    "model_l2 = LogisticRegression(penalty='l2', max_iter=200)\n",
    "model_l2.fit(X_train, y_train)\n",
    "y_pred_l2 = model_l2.predict(X_test)\n",
    "\n",
    "# Print model accuracy and coefficients\n",
    "accuracy_l2 = accuracy_score(y_test, y_pred_l2)\n",
    "print(f\"L2 Regularization Model Accuracy: {accuracy_l2:.2f}\")\n",
    "print(f\"L2 Coefficients: {model_l2.coef_}\")"
   ]
  },
  {
   "cell_type": "code",
   "execution_count": 7,
   "id": "5463296b",
   "metadata": {},
   "outputs": [
    {
     "name": "stdout",
     "output_type": "stream",
     "text": [
      "Elastic Net Regularization Model Accuracy: 1.00\n"
     ]
    },
    {
     "name": "stderr",
     "output_type": "stream",
     "text": [
      "C:\\Users\\Smart\\anaconda\\Lib\\site-packages\\sklearn\\linear_model\\_sag.py:350: ConvergenceWarning: The max_iter was reached which means the coef_ did not converge\n",
      "  warnings.warn(\n"
     ]
    }
   ],
   "source": [
    "# 4. Train Logistic Regression with Elastic Net Regularization (penalty='elasticnet')\n",
    "# Note: Elastic Net requires a specific solver. Using 'saga' for this example.\n",
    "model_en = LogisticRegression(penalty='elasticnet', solver='saga', l1_ratio=0.5, max_iter=200)\n",
    "model_en.fit(X_train, y_train)\n",
    "y_pred_en = model_en.predict(X_test)\n",
    "\n",
    "# Print model accuracy\n",
    "accuracy_en = accuracy_score(y_test, y_pred_en)\n",
    "print(f\"Elastic Net Regularization Model Accuracy: {accuracy_en:.2f}\")\n"
   ]
  },
  {
   "cell_type": "code",
   "execution_count": 8,
   "id": "848f423e",
   "metadata": {},
   "outputs": [
    {
     "name": "stdout",
     "output_type": "stream",
     "text": [
      "Multiclass Logistic Regression Model Accuracy: 0.97\n"
     ]
    }
   ],
   "source": [
    "# 5. Train a Logistic Regression model for multiclass classification using multi_class='ovr'\n",
    "model_multiclass = LogisticRegression(multi_class='ovr', max_iter=200)\n",
    "model_multiclass.fit(X_train, y_train)\n",
    "y_pred_multiclass = model_multiclass.predict(X_test)\n",
    "\n",
    "# Print model accuracy\n",
    "accuracy_multiclass = accuracy_score(y_test, y_pred_multiclass)\n",
    "print(f\"Multiclass Logistic Regression Model Accuracy: {accuracy_multiclass:.2f}\")\n"
   ]
  },
  {
   "cell_type": "code",
   "execution_count": 9,
   "id": "32955b5e",
   "metadata": {},
   "outputs": [
    {
     "name": "stdout",
     "output_type": "stream",
     "text": [
      "Best Parameters: {'C': 10, 'penalty': 'l1'}\n",
      "Best Cross-Validation Accuracy: 0.96\n"
     ]
    }
   ],
   "source": [
    "# 6. Apply GridSearchCV to tune the hyperparameters (C and penalty) of Logistic Regression\n",
    "param_grid = {\n",
    "    'C': [0.01, 0.1, 1, 10, 100],\n",
    "    'penalty': ['l1', 'l2']\n",
    "}\n",
    "grid_search = GridSearchCV(LogisticRegression(solver='liblinear', max_iter=200), param_grid, cv=5)\n",
    "grid_search.fit(X_train, y_train)\n",
    "\n",
    "# Print the best parameters and accuracy\n",
    "print(f\"Best Parameters: {grid_search.best_params_}\")\n",
    "print(f\"Best Cross-Validation Accuracy: {grid_search.best_score_:.2f}\")\n"
   ]
  },
  {
   "cell_type": "code",
   "execution_count": 10,
   "id": "842a4713",
   "metadata": {},
   "outputs": [
    {
     "name": "stdout",
     "output_type": "stream",
     "text": [
      "Average Accuracy from Stratified K-Fold: 0.97\n"
     ]
    }
   ],
   "source": [
    "# 7. Evaluate Logistic Regression using Stratified K-Fold Cross-Validation\n",
    "skf = StratifiedKFold(n_splits=5)\n",
    "accuracies = []\n",
    "\n",
    "for train_index, test_index in skf.split(X, y):\n",
    "    X_train_cv, X_test_cv = X[train_index], X[test_index]\n",
    "    y_train_cv, y_test_cv = y[train_index], y[test_index]\n",
    "    \n",
    "    model_cv = LogisticRegression(max_iter=200)\n",
    "    model_cv.fit(X_train_cv, y_train_cv)\n",
    "    y_pred_cv = model_cv.predict(X_test_cv)\n",
    "    accuracies.append(accuracy_score(y_test_cv, y_pred_cv))\n",
    "\n",
    "# Print the average accuracy\n",
    "print(f\"Average Accuracy from Stratified K-Fold: {np.mean(accuracies):.2f}\")\n"
   ]
  },
  {
   "cell_type": "code",
   "execution_count": 13,
   "id": "10e78213",
   "metadata": {},
   "outputs": [
    {
     "name": "stderr",
     "output_type": "stream",
     "text": [
      "C:\\Users\\Smart\\anaconda\\Lib\\site-packages\\sklearn\\linear_model\\_sag.py:350: ConvergenceWarning: The max_iter was reached which means the coef_ did not converge\n",
      "  warnings.warn(\n",
      "C:\\Users\\Smart\\anaconda\\Lib\\site-packages\\sklearn\\linear_model\\_sag.py:350: ConvergenceWarning: The max_iter was reached which means the coef_ did not converge\n",
      "  warnings.warn(\n",
      "C:\\Users\\Smart\\anaconda\\Lib\\site-packages\\sklearn\\linear_model\\_sag.py:350: ConvergenceWarning: The max_iter was reached which means the coef_ did not converge\n",
      "  warnings.warn(\n",
      "C:\\Users\\Smart\\anaconda\\Lib\\site-packages\\sklearn\\linear_model\\_sag.py:350: ConvergenceWarning: The max_iter was reached which means the coef_ did not converge\n",
      "  warnings.warn(\n"
     ]
    },
    {
     "name": "stdout",
     "output_type": "stream",
     "text": [
      "Best Parameters: {'solver': 'saga', 'penalty': 'l1', 'C': 0.1}\n",
      "Best Cross-Validation Accuracy: 0.87\n"
     ]
    }
   ],
   "source": [
    "# Import necessary libraries\n",
    "import pandas as pd\n",
    "import numpy as np\n",
    "from sklearn.model_selection import train_test_split, RandomizedSearchCV\n",
    "from sklearn.linear_model import LogisticRegression\n",
    "from sklearn.metrics import accuracy_score, confusion_matrix, classification_report, precision_score, recall_score, f1_score, roc_auc_score, cohen_kappa_score\n",
    "import seaborn as sns\n",
    "import matplotlib.pyplot as plt\n",
    "from sklearn.preprocessing import StandardScaler\n",
    "from sklearn.datasets import make_classification\n",
    "\n",
    "# 9. Apply RandomizedSearchCV for tuning hyperparameters (C, penalty, solver) in Logistic Regression\n",
    "# Create a synthetic dataset for demonstration\n",
    "X, y = make_classification(n_samples=1000, n_features=20, n_classes=2, random_state=42)\n",
    "\n",
    "# Split the dataset\n",
    "X_train, X_test, y_train, y_test = train_test_split(X, y, test_size=0.2, random_state=42)\n",
    "\n",
    "# Define the parameter grid\n",
    "param_dist = {\n",
    "    'C': [0.01, 0.1, 1, 10, 100],\n",
    "    'penalty': ['l1', 'l2'],\n",
    "    'solver': ['liblinear', 'saga']\n",
    "}\n",
    "\n",
    "# Apply RandomizedSearchCV\n",
    "random_search = RandomizedSearchCV(LogisticRegression(max_iter=200), param_distributions=param_dist, n_iter=10, cv=5, random_state=42)\n",
    "random_search.fit(X_train, y_train)\n",
    "\n",
    "# Print the best parameters and accuracy\n",
    "print(f\"Best Parameters: {random_search.best_params_}\")\n",
    "print(f\"Best Cross-Validation Accuracy: {random_search.best_score_:.2f}\")\n",
    "\n",
    "\n",
    "\n",
    "\n",
    "\n",
    "\n"
   ]
  },
  {
   "cell_type": "code",
   "execution_count": 14,
   "id": "2eed7fda",
   "metadata": {},
   "outputs": [
    {
     "name": "stdout",
     "output_type": "stream",
     "text": [
      "One-vs-One Model Accuracy: 0.85\n"
     ]
    }
   ],
   "source": [
    "# 10. Implement One-vs-One (OvO) Multiclass Logistic Regression and print accuracy\n",
    "from sklearn.multiclass import OneVsOneClassifier\n",
    "\n",
    "# Create a Logistic Regression model\n",
    "model_ovo = OneVsOneClassifier(LogisticRegression(max_iter=200))\n",
    "model_ovo.fit(X_train, y_train)\n",
    "y_pred_ovo = model_ovo.predict(X_test)\n",
    "\n",
    "# Print accuracy\n",
    "accuracy_ovo = accuracy_score(y_test, y_pred_ovo)\n",
    "print(f\"One-vs-One Model Accuracy: {accuracy_ovo:.2f}\")"
   ]
  },
  {
   "cell_type": "code",
   "execution_count": 15,
   "id": "b76c65ef",
   "metadata": {},
   "outputs": [
    {
     "data": {
      "image/png": "[encoded data removed]",
      "text/plain": [
       "<Figure size 640x480 with 2 Axes>"
      ]
     },
     "metadata": {},
     "output_type": "display_data"
    }
   ],
   "source": [
    "# 11. Train a Logistic Regression model and visualize the confusion matrix for binary classification\n",
    "model_binary = LogisticRegression(max_iter=200)\n",
    "model_binary.fit(X_train, y_train)\n",
    "y_pred_binary = model_binary.predict(X_test)\n",
    "\n",
    "# Confusion Matrix\n",
    "cm = confusion_matrix(y_test, y_pred_binary)\n",
    "sns.heatmap(cm, annot=True, fmt='d', cmap='Blues')\n",
    "plt.title('Confusion Matrix')\n",
    "plt.xlabel('Predicted')\n",
    "plt.ylabel('Actual')\n",
    "plt.show()\n"
   ]
  },
  {
   "cell_type": "code",
   "execution_count": 16,
   "id": "484025bf",
   "metadata": {},
   "outputs": [
    {
     "name": "stdout",
     "output_type": "stream",
     "text": [
      "Precision: 0.91\n",
      "Recall: 0.80\n",
      "F1 Score: 0.86\n"
     ]
    }
   ],
   "source": [
    "# 12. Train a Logistic Regression model and evaluate its performance using Precision, Recall, and F1-Score\n",
    "precision = precision_score(y_test, y_pred_binary)\n",
    "recall = recall_score(y_test, y_pred_binary)\n",
    "f1 = f1_score(y_test, y_pred_binary)\n",
    "\n",
    "print(f\"Precision: {precision:.2f}\")\n",
    "print(f\"Recall: {recall:.2f}\")\n",
    "print(f\"F1 Score: {f1:.2f}\")"
   ]
  },
  {
   "cell_type": "code",
   "execution_count": 17,
   "id": "8c538787",
   "metadata": {},
   "outputs": [
    {
     "name": "stdout",
     "output_type": "stream",
     "text": [
      "Weighted Model Accuracy: 0.86\n"
     ]
    }
   ],
   "source": [
    "# 13. Train a Logistic Regression model on imbalanced data and apply class weights to improve model performance\n",
    "# Create imbalanced dataset\n",
    "X_imbalanced, y_imbalanced = make_classification(n_samples=1000, n_features=20, n_classes=2, weights=[0.9, 0.1], random_state=42)\n",
    "X_train_imb, X_test_imb, y_train_imb, y_test_imb = train_test_split(X_imbalanced, y_imbalanced, test_size=0.2, random_state=42)\n",
    "\n",
    "# Train with class weights\n",
    "model_weighted = LogisticRegression(class_weight='balanced', max_iter=200)\n",
    "model_weighted.fit(X_train_imb, y_train_imb)\n",
    "y_pred_weighted = model_weighted.predict(X_test_imb)\n",
    "\n",
    "# Print accuracy\n",
    "accuracy_weighted = accuracy_score(y_test_imb, y_pred_weighted)\n",
    "print(f\"Weighted Model Accuracy: {accuracy_weighted:.2f}\")\n",
    "\n"
   ]
  },
  {
   "cell_type": "code",
   "execution_count": 18,
   "id": "5f04a3f9",
   "metadata": {},
   "outputs": [
    {
     "name": "stdout",
     "output_type": "stream",
     "text": [
      "Matthews Correlation Coefficient (MCC): 0.72\n"
     ]
    }
   ],
   "source": [
    "import pandas as pd\n",
    "import numpy as np\n",
    "from sklearn.model_selection import train_test_split, cross_val_score\n",
    "from sklearn.linear_model import LogisticRegression\n",
    "from sklearn.metrics import accuracy_score, matthews_corrcoef\n",
    "from sklearn.preprocessing import StandardScaler\n",
    "import joblib\n",
    "from sklearn.datasets import make_classification\n",
    "\n",
    "# Create a synthetic dataset for demonstration\n",
    "X, y = make_classification(n_samples=1000, n_features=20, n_classes=2, random_state=42)\n",
    "\n",
    "# Split the dataset\n",
    "X_train, X_test, y_train, y_test = train_test_split(X, y, test_size=0.2, random_state=42)\n",
    "\n",
    "\n",
    "# 21. Train Logistic Regression and evaluate its performance using Matthews Correlation Coefficient (MCC)\n",
    "model_mcc = LogisticRegression(max_iter=200)\n",
    "model_mcc.fit(X_train, y_train)\n",
    "y_pred_mcc = model_mcc.predict(X_test)\n",
    "\n",
    "# Calculate MCC\n",
    "mcc = matthews_corrcoef(y_test, y_pred_mcc)\n",
    "print(f\"Matthews Correlation Coefficient (MCC): {mcc:.2f}\")"
   ]
  },
  {
   "cell_type": "code",
   "execution_count": 19,
   "id": "1ca60b78",
   "metadata": {},
   "outputs": [
    {
     "name": "stdout",
     "output_type": "stream",
     "text": [
      "Matthews Correlation Coefficient (MCC): 0.72\n"
     ]
    }
   ],
   "source": [
    "# 22. Train Logistic Regression and evaluate its performance using Matthews Correlation Coefficient (MCC)\n",
    "model_mcc = LogisticRegression(max_iter=200)\n",
    "model_mcc.fit(X_train, y_train)\n",
    "y_pred_mcc = model_mcc.predict(X_test)\n",
    "\n",
    "# Calculate MCC\n",
    "mcc = matthews_corrcoef(y_test, y_pred_mcc)\n",
    "print(f\"Matthews Correlation Coefficient (MCC): {mcc:.2f}\")\n"
   ]
  },
  {
   "cell_type": "code",
   "execution_count": 20,
   "id": "953dc141",
   "metadata": {},
   "outputs": [
    {
     "name": "stdout",
     "output_type": "stream",
     "text": [
      "Accuracy on Raw Data: 0.85\n",
      "Accuracy on Standardized Data: 0.85\n"
     ]
    }
   ],
   "source": [
    "# 23. Train Logistic Regression on both raw and standardized data. Compare their accuracy to see the impact of feature scaling\n",
    "# Train on raw data\n",
    "model_raw = LogisticRegression(max_iter=200)\n",
    "model_raw.fit(X_train, y_train)\n",
    "y_pred_raw = model_raw.predict(X_test)\n",
    "accuracy_raw = accuracy_score(y_test, y_pred_raw)\n",
    "print(f\"Accuracy on Raw Data: {accuracy_raw:.2f}\")\n",
    "\n",
    "# Standardize the data\n",
    "scaler = StandardScaler()\n",
    "X_train_scaled = scaler.fit_transform(X_train)\n",
    "X_test_scaled = scaler.transform(X_test)\n",
    "\n",
    "# Train on standardized data\n",
    "model_scaled = LogisticRegression(max_iter=200)\n",
    "model_scaled.fit(X_train_scaled, y_train)\n",
    "y_pred_scaled = model_scaled.predict(X_test_scaled)\n",
    "accuracy_scaled = accuracy_score(y_test, y_pred_scaled)\n",
    "print(f\"Accuracy on Standardized Data: {accuracy_scaled:.2f}\")\n"
   ]
  },
  {
   "cell_type": "code",
   "execution_count": 21,
   "id": "8321dd07",
   "metadata": {},
   "outputs": [
    {
     "name": "stdout",
     "output_type": "stream",
     "text": [
      "C: 0.01, Cross-Validation Accuracy: 0.87\n",
      "C: 0.1, Cross-Validation Accuracy: 0.87\n",
      "C: 1, Cross-Validation Accuracy: 0.87\n",
      "C: 10, Cross-Validation Accuracy: 0.87\n",
      "C: 100, Cross-Validation Accuracy: 0.87\n",
      "Optimal C: 0.1, Best Cross-Validation Accuracy: 0.87\n"
     ]
    }
   ],
   "source": [
    "# 24. Train Logistic Regression and find the optimal C (regularization strength) using cross-validation\n",
    "# Define a range of C values\n",
    "C_values = [0.01, 0.1, 1, 10, 100]\n",
    "best_score = 0\n",
    "best_C = None\n",
    "\n",
    "for C in C_values:\n",
    "    model_cv = LogisticRegression(C=C, max_iter=200)\n",
    "    scores = cross_val_score(model_cv, X_train, y_train, cv=5)\n",
    "    mean_score = np.mean(scores)\n",
    "    print(f\"C: {C}, Cross-Validation Accuracy: {mean_score:.2f}\")\n",
    "    \n",
    "    if mean_score > best_score:\n",
    "        best_score = mean_score\n",
    "        best_C = C\n",
    "\n",
    "print(f\"Optimal C: {best_C}, Best Cross-Validation Accuracy: {best_score:.2f}\")\n",
    "\n"
   ]
  },
  {
   "cell_type": "code",
   "execution_count": 22,
   "id": "cca3eef4",
   "metadata": {},
   "outputs": [
    {
     "name": "stdout",
     "output_type": "stream",
     "text": [
      "Model saved.\n",
      "Accuracy of Loaded Model: 0.86\n"
     ]
    }
   ],
   "source": [
    "# 25. Train Logistic Regression, save the trained model using joblib, and load it again to make predictions\n",
    "# Train the model with the optimal C\n",
    "model_final = LogisticRegression(C=best_C, max_iter=200)\n",
    "model_final.fit(X_train, y_train)\n",
    "\n",
    "# Save the model\n",
    "joblib.dump(model_final, 'logistic_regression_model.joblib')\n",
    "print(\"Model saved.\")\n",
    "\n",
    "# Load the model\n",
    "loaded_model = joblib.load('logistic_regression_model.joblib')\n",
    "y_pred_loaded = loaded_model.predict(X_test)\n",
    "\n",
    "# Evaluate the loaded model\n",
    "loaded_accuracy = accuracy_score(y_test, y_pred_loaded)\n",
    "print(f\"Accuracy of Loaded Model: {loaded_accuracy:.2f}\")"
   ]
  },
  {
   "cell_type": "code",
   "execution_count": null,
   "id": "b8451108",
   "metadata": {},
   "outputs": [],
   "source": []
  },
  {
   "cell_type": "code",
   "execution_count": null,
   "id": "fa043980",
   "metadata": {},
   "outputs": [],
   "source": []
  }
 ],
 "metadata": {
  "kernelspec": {
   "display_name": "Python 3 (ipykernel)",
   "language": "python",
   "name": "python3"
  },
  "language_info": {
   "codemirror_mode": {
    "name": "ipython",
    "version": 3
   },
   "file_extension": ".py",
   "mimetype": "text/x-python",
   "name": "python",
   "nbconvert_exporter": "python",
   "pygments_lexer": "ipython3",
   "version": "3.11.3"
  }
 },
 "nbformat": 4,
 "nbformat_minor": 5
}

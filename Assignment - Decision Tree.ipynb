{
 "cells": [
  {
   "cell_type": "markdown",
   "id": "61afef56",
   "metadata": {},
   "source": [
    "\n",
    "# Theoretical Of Decision Tree"
   ]
  },
  {
   "cell_type": "code",
   "execution_count": null,
   "id": "468a32f3",
   "metadata": {},
   "outputs": [],
   "source": [
    "# 1. What is a Decision Tree, and how does it work?\n",
    "\"\"\"\n",
    "A Decision Tree is a supervised machine learning algorithm used for classification and regression tasks. \n",
    "It works by splitting the data into subsets based on the value of input features. \n",
    "The splits are made based on certain criteria (impurity measures) that aim to create homogeneous subsets. \n",
    "The process continues recursively until a stopping condition is met (e.g., maximum depth, minimum samples per leaf).\n",
    "\"\"\""
   ]
  },
  {
   "cell_type": "code",
   "execution_count": 3,
   "id": "56dbd328",
   "metadata": {},
   "outputs": [],
   "source": [
    "# 2. What are impurity measures in Decision Trees?\n",
    "\"\"\"\n",
    "Impurity measures are metrics used to evaluate the quality of a split in a Decision Tree. \n",
    "They help determine how well a feature separates the classes in the dataset. \n",
    "Common impurity measures include Gini Impurity and Entropy.\n",
    "\"\"\""
   ]
  },
  {
   "cell_type": "code",
   "execution_count": 4,
   "id": "2f959cdc",
   "metadata": {},
   "outputs": [],
   "source": [
    "# 3. What is the mathematical formula for Gini Impurity?\n",
    "\"\"\"\n",
    "Gini Impurity is calculated using the formula:\n",
    "Gini(D) = 1 - ∑(p_i^2)\n",
    "where p_i is the proportion of class i in the dataset D.\n",
    "\"\"\""
   ]
  },
  {
   "cell_type": "code",
   "execution_count": 5,
   "id": "1f75dfc1",
   "metadata": {},
   "outputs": [],
   "source": [
    "# 4. What is the mathematical formula for Entropy?\n",
    "\"\"\"\n",
    "Entropy is calculated using the formula:\n",
    "Entropy(D) = - ∑(p_i * log2(p_i))\n",
    "where p_i is the proportion of class i in the dataset D.\n",
    "\"\"\""
   ]
  },
  {
   "cell_type": "code",
   "execution_count": 7,
   "id": "0ae0f301",
   "metadata": {},
   "outputs": [],
   "source": [
    "# 5. What is Information Gain, and how is it used in Decision Trees?\n",
    "\"\"\"\n",
    "Information Gain measures the reduction in entropy or impurity after a dataset is split on a feature. \n",
    "It is calculated as:\n",
    "Information Gain = Entropy(parent) - ∑( (|D_v| / |D|) * Entropy(D_v) )\n",
    "where D is the dataset, D_v is the subset of D for a particular value of the feature, \n",
    "and |D| and |D_v| are the sizes of the datasets.\n",
    "Information Gain is used to select the feature that provides the best split at each node in the Decision Tree.\n",
    "\"\"\""
   ]
  },
  {
   "cell_type": "code",
   "execution_count": null,
   "id": "bf3d797d",
   "metadata": {},
   "outputs": [],
   "source": [
    "# 6. What is the difference between Gini Impurity and Entropy?\n",
    "\"\"\"\n",
    "Gini Impurity and Entropy are both measures of impurity used in Decision Trees to evaluate the quality of a split.\n",
    "- Gini Impurity:\n",
    "  - Ranges from 0 to 0.5 for binary classification.\n",
    "  - Focuses on the probability of misclassifying a randomly chosen element.\n",
    "  - Computationally simpler and faster to calculate.\n",
    "\n",
    "- Entropy:\n",
    "  - Ranges from 0 to log2(C) for C classes.\n",
    "  - Measures the amount of uncertainty or disorder in the dataset.\n",
    "  - More sensitive to changes in the distribution of classes.\n",
    "\n",
    "In practice, both measures often lead to similar results, but Gini Impurity tends to be preferred for its computational efficiency.\n",
    "\"\"\""
   ]
  },
  {
   "cell_type": "code",
   "execution_count": null,
   "id": "51b9f9aa",
   "metadata": {},
   "outputs": [],
   "source": [
    "# 7. What is the mathematical explanation behind Decision Trees?\n",
    "\"\"\"\n",
    "The mathematical foundation of Decision Trees involves recursive partitioning of the dataset based on impurity measures.\n",
    "1. Start with the entire dataset D.\n",
    "2. For each feature, calculate the impurity (Gini or Entropy) for all possible splits.\n",
    "3. Choose the feature and split that results in the maximum reduction in impurity (Information Gain).\n",
    "4. Repeat the process recursively for each subset until a stopping criterion is met (e.g., maximum depth, minimum samples per leaf).\n",
    "\"\"\""
   ]
  },
  {
   "cell_type": "code",
   "execution_count": null,
   "id": "7bd201ff",
   "metadata": {},
   "outputs": [],
   "source": [
    "# 8. What is Pre-Pruning in Decision Trees?\n",
    "\"\"\"\n",
    "Pre-Pruning, also known as early stopping, is a technique used to prevent overfitting in Decision Trees by halting the growth of the tree before it reaches its full depth. \n",
    "This is done by setting conditions such as:\n",
    "- Maximum depth of the tree.\n",
    "- Minimum number of samples required to split a node.\n",
    "- Minimum impurity decrease required to make a split.\n",
    "\n",
    "By applying these conditions, the tree is kept simpler and more generalizable to unseen data.\n",
    "\"\"\"\n"
   ]
  },
  {
   "cell_type": "code",
   "execution_count": null,
   "id": "289c49c8",
   "metadata": {},
   "outputs": [],
   "source": [
    "# 9. What is Post-Pruning in Decision Trees?\n",
    "\"\"\"\n",
    "Post-Pruning is a technique applied after the Decision Tree has been fully grown. \n",
    "It involves removing nodes that provide little predictive power to reduce overfitting. \n",
    "The process typically includes:\n",
    "1. Growing the full tree.\n",
    "2. Evaluating the performance of the tree on a validation set.\n",
    "3. Removing nodes that do not improve or worsen the performance.\n",
    "\n",
    "This helps in simplifying the model while retaining its predictive accuracy.\n",
    "\"\"\""
   ]
  },
  {
   "cell_type": "code",
   "execution_count": null,
   "id": "bb0094a6",
   "metadata": {},
   "outputs": [],
   "source": [
    "\n",
    "# 10. What is the difference between Pre-Pruning and Post-Pruning?\n",
    "\"\"\"\n",
    "The main differences between Pre-Pruning and Post-Pruning are:\n",
    "\n",
    "- Timing:\n",
    "  - Pre-Pruning occurs during the tree construction process, stopping the growth of the tree based on predefined criteria.\n",
    "  - Post-Pruning occurs after the tree has been fully constructed, where nodes are removed based on their contribution to performance.\n",
    "\n",
    "- Purpose:\n",
    "  - Pre-Pruning aims to prevent overfitting from the start by limiting the complexity of the tree.\n",
    "  - Post-Pruning aims to simplify an already complex tree by removing unnecessary nodes.\n",
    "\n",
    "- Implementation:\n",
    "  - Pre-Pruning requires setting parameters before training.\n",
    "  - Post-Pruning requires a validation set to evaluate the performance of the tree after it has been built.\n",
    "\"\"\""
   ]
  },
  {
   "cell_type": "code",
   "execution_count": null,
   "id": "438268c9",
   "metadata": {},
   "outputs": [],
   "source": [
    "# 11. What is a Decision Tree Regressor?\n",
    "\"\"\"\n",
    "A Decision Tree Regressor is a type of Decision Tree algorithm used for regression tasks. \n",
    "It predicts continuous target values by splitting the data into subsets based on feature values. \n",
    "At each node, the algorithm selects the feature that minimizes the mean squared error (MSE) of the target variable in the resulting subsets. \n",
    "The final prediction for a given input is the average of the target values in the leaf node where the input falls.\n",
    "\"\"\"\n"
   ]
  },
  {
   "cell_type": "code",
   "execution_count": null,
   "id": "3e412362",
   "metadata": {},
   "outputs": [],
   "source": [
    "\n",
    "# 12. What are the advantages and disadvantages of Decision Trees?\n",
    "\"\"\"\n",
    "Advantages:\n",
    "- Easy to understand and interpret; visual representation is intuitive.\n",
    "- Requires little data preprocessing (no need for feature scaling).\n",
    "- Can handle both numerical and categorical data.\n",
    "- Capable of capturing non-linear relationships.\n",
    "\n",
    "Disadvantages:\n",
    "- Prone to overfitting, especially with deep trees.\n",
    "- Sensitive to small changes in the data, which can lead to different splits.\n",
    "- Can be biased towards features with more levels (in categorical data).\n",
    "- May not perform well on datasets with a large number of features compared to instances.\n",
    "\"\"\""
   ]
  },
  {
   "cell_type": "code",
   "execution_count": null,
   "id": "d2af519e",
   "metadata": {},
   "outputs": [],
   "source": [
    "# 13. How does a Decision Tree handle missing values?\n",
    "\"\"\"\n",
    "Decision Trees can handle missing values in several ways:\n",
    "1. Surrogate Splits: The algorithm can use alternative features to make splits when the primary feature has missing values.\n",
    "2. Imputation: Missing values can be filled in using techniques like mean, median, or mode imputation before training.\n",
    "3. Separate Branch: A separate branch can be created for instances with missing values, allowing the tree to still make predictions.\n",
    "\"\"\"\n"
   ]
  },
  {
   "cell_type": "code",
   "execution_count": null,
   "id": "fca0dbb9",
   "metadata": {},
   "outputs": [],
   "source": [
    "# 14. How does a Decision Tree handle categorical features?\n",
    "\"\"\"\n",
    "Decision Trees can handle categorical features by:\n",
    "1. Splitting on each category: The algorithm can create branches for each category of the feature.\n",
    "2. Using one-hot encoding: Categorical features can be transformed into binary features, allowing the tree to split based on the presence or absence of each category.\n",
    "3. Handling ordinal features: If the categorical feature has a natural order, the tree can treat it as a numerical feature.\n",
    "\"\"\""
   ]
  },
  {
   "cell_type": "code",
   "execution_count": null,
   "id": "b71086c8",
   "metadata": {},
   "outputs": [],
   "source": [
    "# 15. What are some real-world applications of Decision Trees?\n",
    "real_world_applications_info = \"\"\"\n",
    "Decision Trees have a wide range of real-world applications, including:\n",
    "1. Finance: Credit scoring and risk assessment.\n",
    "2. Healthcare: Diagnosing diseases based on patient data.\n",
    "3. Marketing: Customer segmentation and targeting.\n",
    "4. Manufacturing: Quality control and predictive maintenance.\n",
    "5. E-commerce: Recommendation systems based on user behavior.\n",
    "\"\"\"\n"
   ]
  },
  {
   "cell_type": "markdown",
   "id": "06c9233b",
   "metadata": {},
   "source": [
    "# Practical Of Decision Tree"
   ]
  },
  {
   "cell_type": "code",
   "execution_count": 17,
   "id": "4efdc27d",
   "metadata": {},
   "outputs": [
    {
     "name": "stdout",
     "output_type": "stream",
     "text": [
      "1. Decision Tree Classifier on Iris Dataset\n",
      "Model Accuracy: 1.00\n",
      "\n"
     ]
    }
   ],
   "source": [
    "# Importing necessary libraries\n",
    "import pandas as pd\n",
    "from sklearn.datasets import load_iris\n",
    "from sklearn.model_selection import train_test_split\n",
    "from sklearn.tree import DecisionTreeClassifier\n",
    "from sklearn.metrics import accuracy_score\n",
    "\n",
    "# Load the Iris dataset\n",
    "iris = load_iris()\n",
    "X = iris.data\n",
    "y = iris.target\n",
    "\n",
    "# Split the dataset into training and testing sets\n",
    "X_train, X_test, y_train, y_test = train_test_split(X, y, test_size=0.2, random_state=42)\n",
    "\n",
    "# 16. Train a Decision Tree Classifier on the Iris dataset and print the model accuracy\n",
    "print(\"1. Decision Tree Classifier on Iris Dataset\")\n",
    "clf = DecisionTreeClassifier(random_state=42)\n",
    "clf.fit(X_train, y_train)\n",
    "\n",
    "# Make predictions\n",
    "y_pred = clf.predict(X_test)\n",
    "\n",
    "# Calculate and print the accuracy\n",
    "accuracy = accuracy_score(y_test, y_pred)\n",
    "print(f\"Model Accuracy: {accuracy:.2f}\\n\")\n"
   ]
  },
  {
   "cell_type": "code",
   "execution_count": 18,
   "id": "5c2af175",
   "metadata": {},
   "outputs": [
    {
     "name": "stdout",
     "output_type": "stream",
     "text": [
      "2. Decision Tree Classifier using Gini Impurity\n",
      "Feature Importances (Gini Impurity):\n",
      "sepal length (cm): 0.0000\n",
      "sepal width (cm): 0.0167\n",
      "petal length (cm): 0.9061\n",
      "petal width (cm): 0.0772\n",
      "\n"
     ]
    }
   ],
   "source": [
    "# 17. Train a Decision Tree Classifier using Gini Impurity as the criterion and print the feature importances\n",
    "print(\"2. Decision Tree Classifier using Gini Impurity\")\n",
    "clf_gini = DecisionTreeClassifier(criterion='gini', random_state=42)\n",
    "clf_gini.fit(X_train, y_train)\n",
    "\n",
    "# Print feature importances\n",
    "feature_importances = clf_gini.feature_importances_\n",
    "print(\"Feature Importances (Gini Impurity):\")\n",
    "for feature, importance in zip(iris.feature_names, feature_importances):\n",
    "    print(f\"{feature}: {importance:.4f}\")\n",
    "print()\n"
   ]
  },
  {
   "cell_type": "code",
   "execution_count": 22,
   "id": "4cd56179",
   "metadata": {},
   "outputs": [
    {
     "name": "stdout",
     "output_type": "stream",
     "text": [
      "3. Decision Tree Classifier using Entropy\n",
      "Model Accuracy (Entropy): 1.00\n"
     ]
    }
   ],
   "source": [
    "# 18.rain a Decision Tree Classifier using Entropy as the splitting criterion and print the model accuracy\n",
    "print(\"3. Decision Tree Classifier using Entropy\")\n",
    "clf_entropy = DecisionTreeClassifier(criterion='entropy', random_state=42)\n",
    "clf_entropy.fit(X_train, y_train)\n",
    "\n",
    "# Make predictions\n",
    "y_pred_entropy = clf_entropy.predict(X_test)\n",
    "\n",
    "# Calculate and print the accuracy\n",
    "accuracy_entropy = accuracy_score(y_test, y_pred_entropy)\n",
    "print(f\"Model Accuracy (Entropy): {accuracy_entropy:.2f}\")"
   ]
  },
  {
   "cell_type": "code",
   "execution_count": 23,
   "id": "02401cb3",
   "metadata": {},
   "outputs": [
    {
     "name": "stdout",
     "output_type": "stream",
     "text": [
      "2. Comparing Decision Tree Classifier with and without Feature Scaling\n",
      "Accuracy (Unscaled Data): 1.00\n",
      "Accuracy (Scaled Data): 1.00\n",
      "\n"
     ]
    }
   ],
   "source": [
    "# Importing necessary libraries\n",
    "import pandas as pd\n",
    "from sklearn.datasets import load_iris\n",
    "from sklearn.model_selection import train_test_split\n",
    "from sklearn.tree import DecisionTreeClassifier\n",
    "from sklearn.metrics import accuracy_score\n",
    "from sklearn.preprocessing import StandardScaler\n",
    "from sklearn.multiclass import OneVsRestClassifier\n",
    "\n",
    "# Load the Iris dataset\n",
    "iris = load_iris()\n",
    "X = iris.data\n",
    "y = iris.target\n",
    "\n",
    "# Split the dataset into training and testing sets\n",
    "X_train, X_test, y_train, y_test = train_test_split(X, y, test_size=0.2, random_state=42)\n",
    "\n",
    "\n",
    "# 23. Apply feature scaling before training a Decision Tree Classifier and compare its accuracy with unscaled data\n",
    "print(\"2. Comparing Decision Tree Classifier with and without Feature Scaling\")\n",
    "# Feature scaling\n",
    "scaler = StandardScaler()\n",
    "X_train_scaled = scaler.fit_transform(X_train)\n",
    "X_test_scaled = scaler.transform(X_test)\n",
    "\n",
    "# Train on scaled data\n",
    "clf_scaled = DecisionTreeClassifier(random_state=42)\n",
    "clf_scaled.fit(X_train_scaled, y_train)\n",
    "y_pred_scaled = clf_scaled.predict(X_test_scaled)\n",
    "\n",
    "# Calculate accuracy for scaled data\n",
    "accuracy_scaled = accuracy_score(y_test, y_pred_scaled)\n",
    "\n",
    "print(f\"Accuracy (Unscaled Data): {accuracy_default:.2f}\")\n",
    "print(f\"Accuracy (Scaled Data): {accuracy_scaled:.2f}\\n\")\n",
    "\n"
   ]
  },
  {
   "cell_type": "code",
   "execution_count": 24,
   "id": "0562f370",
   "metadata": {},
   "outputs": [
    {
     "name": "stdout",
     "output_type": "stream",
     "text": [
      "1. Comparing Decision Tree Classifier with min_samples_split=5 and Default Tree\n",
      "Accuracy (min_samples_split=5): 1.00\n",
      "Accuracy (Default Tree): 1.00\n",
      "\n"
     ]
    }
   ],
   "source": [
    "# 22. Train a Decision Tree Classifier using min_samples_split=5 and compare its accuracy with a default tree\n",
    "print(\"1. Comparing Decision Tree Classifier with min_samples_split=5 and Default Tree\")\n",
    "clf_min_samples_split = DecisionTreeClassifier(min_samples_split=5, random_state=42)\n",
    "clf_min_samples_split.fit(X_train, y_train)\n",
    "\n",
    "# Make predictions\n",
    "y_pred_min_samples_split = clf_min_samples_split.predict(X_test)\n",
    "\n",
    "# Calculate accuracy for min_samples_split tree\n",
    "accuracy_min_samples_split = accuracy_score(y_test, y_pred_min_samples_split)\n",
    "\n",
    "# Default tree\n",
    "clf_default = DecisionTreeClassifier(random_state=42)\n",
    "clf_default.fit(X_train, y_train)\n",
    "y_pred_default = clf_default.predict(X_test)\n",
    "\n",
    "# Calculate accuracy for default tree\n",
    "accuracy_default = accuracy_score(y_test, y_pred_default)\n",
    "\n",
    "print(f\"Accuracy (min_samples_split=5): {accuracy_min_samples_split:.2f}\")\n",
    "print(f\"Accuracy (Default Tree): {accuracy_default:.2f}\\n\")\n"
   ]
  },
  {
   "cell_type": "code",
   "execution_count": 25,
   "id": "ad85e7f9",
   "metadata": {},
   "outputs": [
    {
     "name": "stdout",
     "output_type": "stream",
     "text": [
      "3. Decision Tree Classifier using One-vs-Rest (OvR) Strategy\n",
      "Accuracy (One-vs-Rest Strategy): 1.00\n"
     ]
    }
   ],
   "source": [
    "# 24. Train a Decision Tree Classifier using One-vs-Rest (OvR) strategy for multiclass classification\n",
    "print(\"3. Decision Tree Classifier using One-vs-Rest (OvR) Strategy\")\n",
    "ovr_clf = OneVsRestClassifier(DecisionTreeClassifier(random_state=42))\n",
    "ovr_clf.fit(X_train, y_train)\n",
    "\n",
    "# Make predictions\n",
    "y_pred_ovr = ovr_clf.predict(X_test)\n",
    "\n",
    "# Calculate accuracy for OvR strategy\n",
    "accuracy_ovr = accuracy_score(y_test, y_pred_ovr)\n",
    "\n",
    "print(f\"Accuracy (One-vs-Rest Strategy): {accuracy_ovr:.2f}\")"
   ]
  },
  {
   "cell_type": "code",
   "execution_count": 27,
   "id": "294efd20",
   "metadata": {},
   "outputs": [
    {
     "name": "stdout",
     "output_type": "stream",
     "text": [
      "1. Evaluating Decision Tree Classifier Performance\n",
      "              precision    recall  f1-score   support\n",
      "\n",
      "           0       1.00      1.00      1.00        10\n",
      "           1       1.00      1.00      1.00         9\n",
      "           2       1.00      1.00      1.00        11\n",
      "\n",
      "    accuracy                           1.00        30\n",
      "   macro avg       1.00      1.00      1.00        30\n",
      "weighted avg       1.00      1.00      1.00        30\n",
      "\n"
     ]
    }
   ],
   "source": [
    "# Importing necessary libraries\n",
    "import pandas as pd\n",
    "import numpy as np\n",
    "from sklearn.datasets import load_iris\n",
    "from sklearn.model_selection import train_test_split, GridSearchCV\n",
    "from sklearn.tree import DecisionTreeClassifier\n",
    "from sklearn.metrics import classification_report, confusion_matrix\n",
    "import seaborn as sns\n",
    "import matplotlib.pyplot as plt\n",
    "\n",
    "# Load the Iris dataset\n",
    "iris = load_iris()\n",
    "X = iris.data\n",
    "y = iris.target\n",
    "\n",
    "# Split the dataset into training and testing sets\n",
    "X_train, X_test, y_train, y_test = train_test_split(X, y, test_size=0.2, random_state=42)\n",
    "\n",
    "# 28. Train a Decision Tree Classifier and evaluate its performance using Precision, Recall, and F1-Score\n",
    "print(\"1. Evaluating Decision Tree Classifier Performance\")\n",
    "clf = DecisionTreeClassifier(random_state=42)\n",
    "clf.fit(X_train, y_train)\n",
    "\n",
    "# Make predictions\n",
    "y_pred = clf.predict(X_test)\n",
    "\n",
    "# Print classification report\n",
    "print(classification_report(y_test, y_pred))\n",
    "\n"
   ]
  },
  {
   "cell_type": "code",
   "execution_count": 28,
   "id": "0fb18b06",
   "metadata": {},
   "outputs": [
    {
     "name": "stdout",
     "output_type": "stream",
     "text": [
      "2. Visualizing Confusion Matrix\n"
     ]
    },
    {
     "data": {
      "image/png": "[encoded data removed]",
      "text/plain": [
       "<Figure size 800x600 with 2 Axes>"
      ]
     },
     "metadata": {},
     "output_type": "display_data"
    }
   ],
   "source": [
    "\n",
    "# 29. Train a Decision Tree Classifier and visualize the confusion matrix using seaborn\n",
    "print(\"2. Visualizing Confusion Matrix\")\n",
    "conf_matrix = confusion_matrix(y_test, y_pred)\n",
    "\n",
    "# Create a heatmap for the confusion matrix\n",
    "plt.figure(figsize=(8, 6))\n",
    "sns.heatmap(conf_matrix, annot=True, fmt='d', cmap='Blues', \n",
    "            xticklabels=iris.target_names, yticklabels=iris.target_names)\n",
    "plt.ylabel('Actual')\n",
    "plt.xlabel('Predicted')\n",
    "plt.title('Confusion Matrix')\n",
    "plt.show()\n"
   ]
  },
  {
   "cell_type": "code",
   "execution_count": 29,
   "id": "a761729b",
   "metadata": {},
   "outputs": [
    {
     "name": "stdout",
     "output_type": "stream",
     "text": [
      "3. Finding Optimal Values using GridSearchCV\n",
      "Best Parameters from GridSearchCV:\n",
      "{'max_depth': None, 'min_samples_split': 2}\n",
      "Classification Report for Best Model:\n",
      "              precision    recall  f1-score   support\n",
      "\n",
      "           0       1.00      1.00      1.00        10\n",
      "           1       1.00      1.00      1.00         9\n",
      "           2       1.00      1.00      1.00        11\n",
      "\n",
      "    accuracy                           1.00        30\n",
      "   macro avg       1.00      1.00      1.00        30\n",
      "weighted avg       1.00      1.00      1.00        30\n",
      "\n"
     ]
    }
   ],
   "source": [
    "# 30. Train a Decision Tree Classifier and use GridSearchCV to find the optimal values for max_depth and min_samples_split\n",
    "print(\"3. Finding Optimal Values using GridSearchCV\")\n",
    "param_grid = {\n",
    "    'max_depth': [None, 1, 2, 3, 4, 5, 6, 7, 8, 9, 10],\n",
    "    'min_samples_split': [2, 3, 4, 5, 6, 7, 8, 9, 10]\n",
    "}\n",
    "\n",
    "grid_search = GridSearchCV(DecisionTreeClassifier(random_state=42), param_grid, cv=5)\n",
    "grid_search.fit(X_train, y_train)\n",
    "\n",
    "# Print the best parameters\n",
    "print(\"Best Parameters from GridSearchCV:\")\n",
    "print(grid_search.best_params_)\n",
    "\n",
    "# Evaluate the best model\n",
    "best_model = grid_search.best_estimator_\n",
    "y_pred_best = best_model.predict(X_test)\n",
    "print(\"Classification Report for Best Model:\")\n",
    "print(classification_report(y_test, y_pred_best))"
   ]
  },
  {
   "cell_type": "code",
   "execution_count": null,
   "id": "fa9f4f52",
   "metadata": {},
   "outputs": [],
   "source": []
  }
 ],
 "metadata": {
  "kernelspec": {
   "display_name": "Python 3 (ipykernel)",
   "language": "python",
   "name": "python3"
  },
  "language_info": {
   "codemirror_mode": {
    "name": "ipython",
    "version": 3
   },
   "file_extension": ".py",
   "mimetype": "text/x-python",
   "name": "python",
   "nbconvert_exporter": "python",
   "pygments_lexer": "ipython3",
   "version": "3.11.3"
  }
 },
 "nbformat": 4,
 "nbformat_minor": 5
}

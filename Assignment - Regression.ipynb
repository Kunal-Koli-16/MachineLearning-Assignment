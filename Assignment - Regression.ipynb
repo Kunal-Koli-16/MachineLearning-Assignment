{
 "cells": [
  {
   "cell_type": "markdown",
   "id": "64314bfa",
   "metadata": {},
   "source": [
    "Q1) What is Simple Linear Regression"
   ]
  },
  {
   "cell_type": "markdown",
   "id": "3a5bea49",
   "metadata": {},
   "source": [
    "ans =>\n",
    "simple Linear Regression is a statistical method used to model the relationship between a dependent variable\n",
    "Y and a single independent variable X using a straight line equation"
   ]
  },
  {
   "cell_type": "markdown",
   "id": "b04e6f85",
   "metadata": {},
   "source": [
    "Q2) What are the key assumptions of Simple Linear Regression \n",
    "\n"
   ]
  },
  {
   "cell_type": "code",
   "execution_count": 1,
   "id": "73fa81a1",
   "metadata": {},
   "outputs": [],
   "source": [
    "#ans=>\n",
    "# Linearity – The relationship between X and Y is linear.\n",
    "# Independence – Observations are independent of each other.\n",
    "# Homoscedasticity – Constant variance of residuals.\n",
    "# Normality – Residuals (errors) are normally distributed.\n",
    "# No multicollinearity – Not applicable for simple regression"
   ]
  },
  {
   "cell_type": "markdown",
   "id": "79fd1da1",
   "metadata": {},
   "source": [
    "Q3) What does the coefficient m represent in the equation Y=mX+c\n",
    "\n",
    "ans=>The slope m represents the rate of change of Y with respect to X.\n",
    "It indicates how much Y changes for a one-unit increase in X."
   ]
  },
  {
   "cell_type": "markdown",
   "id": "fdc71478",
   "metadata": {},
   "source": [
    "# "
   ]
  },
  {
   "cell_type": "markdown",
   "id": "27d7e5e4",
   "metadata": {},
   "source": [
    "Q4)What does the intercept c represent in the equation Y=mX+c\n",
    "\n",
    "ans=> \n",
    "The intercept c is the predicted value of Y when X=0. \n",
    "It provides the baseline value of Y when there is no contribution from X."
   ]
  },
  {
   "cell_type": "markdown",
   "id": "4ea8ac81",
   "metadata": {},
   "source": [
    "# "
   ]
  },
  {
   "cell_type": "markdown",
   "id": "83ff4446",
   "metadata": {},
   "source": [
    "Q5)How do we calculate the slope m in Simple Linear Regression\n",
    "\n",
    "ans =>\n",
    "step 1 :\n",
    "    Find the mean of X and Y Calculate the average (mean) of all X values.\n",
    "    Calculate the average of all Y values.\n",
    "\n",
    "step 2:\n",
    "    Subtract the mean X from each X value.\n",
    "    Subtract the mean Y from each Y value.\n",
    "    multiply the result of each correspoding pair of X & Y\n",
    "    sum up all these products\n",
    "\n",
    "step 3:\n",
    "    subtract the mean X from each X value\n",
    "    Square each result and Sum up all these squared values\n",
    "    \n",
    "step 4:\n",
    "    This gives the slope m, which shows how much Y changes per unit increase in X."
   ]
  },
  {
   "cell_type": "code",
   "execution_count": 2,
   "id": "ebd48a99",
   "metadata": {},
   "outputs": [],
   "source": [
    "#Q6)  What is the purpose of the least squares method in Simple Linear Regression \n",
    "\n",
    "#ans =>\n",
    "#The least squares method is used in Simple Linear Regression to find the best-fitting line that minimizes\n",
    "#the difference between the actual data points and the predicted values. \n",
    "#The goal is to reduce the total error in the model by minimizing the sum of squared residuals.\n"
   ]
  },
  {
   "cell_type": "code",
   "execution_count": 3,
   "id": "938e7a5f",
   "metadata": {},
   "outputs": [],
   "source": [
    "#Q7) How is the coefficient of determination (R²) interpreted in Simple Linear Regression\n",
    "#ans=>\n",
    "#The coefficient of determination R² measures how well the independent variable (X)\n",
    "#explains the variability of the dependent variable (Y). \n",
    "#It indicates the proportion of variance in Y that is accounted for by X in the regression model."
   ]
  },
  {
   "cell_type": "markdown",
   "id": "7e6a2900",
   "metadata": {},
   "source": [
    "Q8)What is Multiple Linear Regression \n",
    "\n",
    "ans=> \n",
    "Multiple Linear Regression is an extension of Simple Linear Regression that models the relationship between\n",
    "a dependent variable Y and two or more independent variable like (X1,X2,X3,...,Xn)\n"
   ]
  },
  {
   "cell_type": "code",
   "execution_count": 4,
   "id": "f69726ac",
   "metadata": {},
   "outputs": [],
   "source": [
    "# Q9)What is the main difference between Simple and Multiple Linear Regression\n",
    "\n",
    "#ans=> \n",
    "#1. Simple Linear Regression\n",
    "#    -One independent variable X.\n",
    "#    -Simpler model\n",
    "#    -Easy to interpret\n",
    "#    -Used when there is only one predictor influencing Y\n",
    "    \n",
    "    \n",
    "#2.Multiple Linear Regression\n",
    "#    -Two or more independent variables (X1,X2,X3,...,Xn)\n",
    "#    -More complex model\n",
    "#    -Requires checking multicollinearity and interaction effects\n",
    "#    -Used when multiple factors contribute to Y"
   ]
  },
  {
   "cell_type": "code",
   "execution_count": 5,
   "id": "3f43f9f1",
   "metadata": {},
   "outputs": [],
   "source": [
    "#Q10) What are the key assumptions of Multiple Linear Regression\n",
    "\n",
    "#ans=> \n",
    "#1. Linearity : The relationship between dependent and independent variables is linear.\n",
    "#2. No Multicollinearity : Independent variables should not be highly correlated with each other.\n",
    "#3. Homoscedasticity : The variance of residuals should be constant.\n",
    "#4. Normality of Residuals : Residuals should be normally distributed.\n",
    "#5. Independence of Errors : Observations should not be dependent on each other."
   ]
  },
  {
   "cell_type": "code",
   "execution_count": 6,
   "id": "498751f9",
   "metadata": {},
   "outputs": [],
   "source": [
    "#Q11)What is heteroscedasticity, and how does it affect the results of a Multiple Linear Regression model\n",
    "\n",
    "#ans =>\n",
    "# Heteroscedasticity means :\n",
    "# refers to a condition in Multiple Linear Regression where the variance of the \n",
    "# residuals is not constant across all levels of the independent variables.\n",
    "# This means that the spread of residuals increases or decreases as the predicted values change.\n",
    "\n",
    "# Affect the Regression Model:\n",
    "# 1.Biases Standard Errors : The estimated standard errors of the regression coefficients become unreliable,\n",
    "#    leading to incorrect hypothesis testing\n",
    "    \n",
    "#2.Reduces Model Efficiency : Predictions become less precise, making confidence intervals and significance tests invalid.\n",
    "    \n",
    "#3.Increases the Risk of Type I Errors : The model may falsely detect significant relationships when they do not actually exist."
   ]
  },
  {
   "cell_type": "code",
   "execution_count": 7,
   "id": "80cf7297",
   "metadata": {},
   "outputs": [],
   "source": [
    "#Q12)How can you improve a Multiple Linear Regression model with high multicollinearity\n",
    "\n",
    "# ans => \n",
    "# 1. Remove Highly Correlated Variables :\n",
    "#    If two variables are strongly correlated, keep only one of them to avoid redundancy.\n",
    "#    Example: If height and weight are both highly correlated with BMI, consider removing one.\n",
    "# 2. Use Principal Component Analysis :\n",
    "#    PCA transforms correlated variables into uncorrelated principal components that retain most of the original information.\n",
    "#    Reduces dimensionality and avoids multicollinearity.\n",
    "# 3. Apply Ridge Regression :\n",
    "#    Ridge regression adds a penalty to large coefficients, helping to stabilize the model when multicollinearity exists.\n",
    "#    Helps distribute variance across correlated variables rather than giving extreme values to coefficients.\n",
    "# 4. Use Lasso Regression\n",
    "#    Lasso regression shrinks some coefficients to zero, effectively selecting only the most important variables.\n",
    "#    Helps in automatic feature selection, reducing multicollinearity."
   ]
  },
  {
   "cell_type": "code",
   "execution_count": 8,
   "id": "b2443dfb",
   "metadata": {},
   "outputs": [],
   "source": [
    "#Q13) What are some common techniques for transforming categorical variables for use in regression models\n",
    "\n",
    "#ans => \n",
    "# 1. One-Hot Encoding :\n",
    "#    Nominal (unordered) categorical variables with a small number of unique values.\n",
    "# 2. Label Encoding:\n",
    "#    Ordinal (ordered) categorical variables.\n",
    "# 3. Ordinal Encoding :\n",
    "#    Ordered categorical variables where the order matters eg. \"Low\", \"Medium\", \"High\".\n",
    "# 4. Frequency Encoding :\n",
    "#    Large categorical variables with many unique values.\n",
    "# 5. Target Encoding :\n",
    "#    Categorical variables that correlate with the target variable in a Supervised Learning setting."
   ]
  },
  {
   "cell_type": "code",
   "execution_count": 9,
   "id": "0721d8b2",
   "metadata": {},
   "outputs": [],
   "source": [
    "#Q14) What is the role of interaction terms in Multiple Linear Regression \n",
    "\n",
    "#ans =>\n",
    "# Interaction terms in Multiple Linear Regression capture the combined effect of two or more independent variables (X1 and X2)\n",
    "# on the dependent variable (Y). They help model situations where the effect of one variable depends on the value of another.\n",
    "\n",
    "# Why Are They Important :\n",
    "# 1) Captures Non-Additive Effects: If two variables influence each other, their combined effect might be\n",
    "#                                  greater or smaller than the sum of their individual effects.\n",
    "# 2) Improves Model Accuracy: Without interaction terms, the model may miss relationships between variables.\n",
    "# 3) Prevents Misinterpretation: Ignoring interactions can lead to incorrect conclusions about relationships in the data."
   ]
  },
  {
   "cell_type": "markdown",
   "id": "305703fd",
   "metadata": {},
   "source": [
    "Q15) How can the interpretation of intercept differ between Simple and Multiple Linear Regression\n",
    "\n",
    "ans =>\n",
    "The intercept (c or b0) in a regression model represents the expected value of the dependent variable (Y)\n",
    "when all independent variables (X) are equal to zero. However, its interpretation varies depending on whether\n",
    "we are using Simple Linear Regression or Multiple Linear Regression."
   ]
  },
  {
   "cell_type": "raw",
   "id": "079f581b",
   "metadata": {},
   "source": []
  },
  {
   "cell_type": "code",
   "execution_count": 10,
   "id": "9bf7e19d",
   "metadata": {},
   "outputs": [],
   "source": [
    "#Q22) Why is it important to scale variables in Multiple Linear Regression\n",
    "\n",
    "#ans=>\n",
    "# 1. Prevents Certain Features from Dominating the Model\n",
    "#    - In Multiple Linear Regression, coefficients  measure the effect of each variable on Y.\n",
    "#    - If features have different scales, those with larger numerical values may appear to have more influence, \n",
    "#      even when they don’t.\n",
    "        \n",
    "# 2. Helps with Numerical Stability in Computations :\n",
    "#   - Large values can lead to rounding errors in matrix operations.\n",
    "#     - Scaling prevents issues like overflow, underflow, or floating-point precision errors.\n",
    "\n",
    "# 4. Helps with Interpretation of Coefficients :\n",
    "#    After scaling, the coefficients represent how one standard deviation change in X affects Y.\n",
    "#    This makes it easier to compare the impact of different variables."
   ]
  },
  {
   "cell_type": "code",
   "execution_count": 11,
   "id": "a1f19c23",
   "metadata": {},
   "outputs": [],
   "source": [
    "# Q23) What is polynomial regression\n",
    "#ans => \n",
    "# Polynomial regression is a type of regression analysis where the relationship between the \n",
    "# independent variable X and the dependent variable  Y is modeled is an nth\n",
    "# degree polynomial. It is used when the data shows a non-linear relationship that cannot be \n",
    "# captured by simple linear regression."
   ]
  },
  {
   "cell_type": "code",
   "execution_count": 12,
   "id": "2dffbaa4",
   "metadata": {},
   "outputs": [],
   "source": [
    "#Q24)  How does polynomial regression differ from linear regression\n",
    "\n",
    "#ans =>\n",
    "#Linear Regression :\n",
    "#    1.Assumes a linear relationship between X and Y\n",
    "#    2.Graph Shape - Straight line\n",
    "#    3.Flexibility - Less flexible, only fits linear trends\n",
    "#    4.Overfitting Risk  - Low risk\n",
    "    \n",
    "#Polynomial Regression : \n",
    "#    1.Models a non-linear relationship using polynomial terms\n",
    "#    2.Graph Shape - Curved line \n",
    "#    3.Flexibility - More flexible, fits complex patterns\n",
    "#    4.Overfitting Risk - High risk if the degree of polynomial is too high\n",
    "#    5.Computational Complexity - Higher complexity due to additional terms\n"
   ]
  },
  {
   "cell_type": "code",
   "execution_count": 13,
   "id": "283e8aa5",
   "metadata": {},
   "outputs": [],
   "source": [
    "#Q25) When is polynomial regression used\n",
    "#ans =>\n",
    "# Polynomial regression is used when the relationship between the dependent variable (Y) and the independent variable (X) \n",
    "# is non-linear but can still be modeled using polynomial terms\n",
    "\n",
    "# 1. When Data Shows a Curved Trend\n",
    "# 2. When Linear Regression Underfits the Data\n",
    "# 3. When There’s a Need to Capture Non-Linear Effects\n",
    "# 4. When Higher-Order Interactions Exist"
   ]
  },
  {
   "cell_type": "markdown",
   "id": "a9bb3889",
   "metadata": {},
   "source": [
    "\n"
   ]
  },
  {
   "cell_type": "code",
   "execution_count": 14,
   "id": "a12e6ce9",
   "metadata": {},
   "outputs": [],
   "source": [
    "#Q28) What are the limitations of polynomial regression\n",
    "\n",
    "#ans=>\n",
    "\n",
    "#1. Overfitting (High Variance) :\n",
    "#    - A high-degree polynomial can perfectly fit the training data but may fail to generalize to unseen data.\n",
    "#    - The model captures noise rather than the actual underlying pattern, leading to poor performance on test data.\n",
    "#2. Extrapolation Issues :\n",
    "#    - Polynomial regression can behave unpredictably for values outside the training range.\n",
    "#    - The higher the polynomial degree, the more extreme the predictions at large values of x.\n",
    "#3. Computational Complexity :\n",
    "#    - Higher-degree polynomials increase the number of terms in the model, making it computationally expensive.\n",
    "#    - For multivariate polynomial regression, the number of features grows exponentially.\n",
    "#5. Not Always the Best Fit :\n",
    "#    - Polynomial regression assumes that the data follows a polynomial relationship, which might not be true.\n",
    "#    - Other models like decision trees, support vector machines (SVM), or neural networks could be better suited."
   ]
  },
  {
   "cell_type": "raw",
   "id": "2f743113",
   "metadata": {},
   "source": []
  },
  {
   "cell_type": "code",
   "execution_count": 15,
   "id": "5e1287cb",
   "metadata": {},
   "outputs": [],
   "source": [
    "#Q30) Why is visualization important in polynomial regression\n",
    "\n",
    "#Ans  =>\n",
    "\n",
    "#1. Helps Identify Non-Linearity in Data :\n",
    "#    - Before applying polynomial regression, scatter plots can reveal whether the relationship between \n",
    "#      variables is linear or non-linear.\n",
    "#    - If the data follows a curved trend, polynomial regression might be a better choice than linear regression.\n",
    "    \n",
    "#2. Detects Overfitting & Underfitting \n",
    "#    - Underfitting : The model fails to capture the curvature in data.\n",
    "#    - Overfitting : The model follows noise instead of the true trend.\n",
    "\n",
    "#3. Visualizing Model Performance on Training vs. Test Data \n",
    "#    - Plotting training and test fits helps check if the model generalizes well.\n",
    "#    - If the model fits the training data perfectly but performs poorly on test data, it's likely overfitting."
   ]
  },
  {
   "cell_type": "markdown",
   "id": "ce5e566f",
   "metadata": {},
   "source": [
    "Q31) How is polynomial regression implemented in Python?\n",
    "\n"
   ]
  },
  {
   "cell_type": "code",
   "execution_count": 3,
   "id": "90bba07f",
   "metadata": {},
   "outputs": [
    {
     "data": {
      "image/png": "[encoded data removed]",
      "text/plain": [
       "<Figure size 640x480 with 1 Axes>"
      ]
     },
     "metadata": {},
     "output_type": "display_data"
    },
    {
     "name": "stdout",
     "output_type": "stream",
     "text": [
      "Mean Squared Error: 19.9393\n",
      "R-squared Score: 0.9681\n"
     ]
    }
   ],
   "source": [
    "#ANS =>\n",
    "\n",
    "import numpy as np\n",
    "import matplotlib.pyplot as plt\n",
    "from sklearn.preprocessing import PolynomialFeatures\n",
    "from sklearn.linear_model import LinearRegression\n",
    "from sklearn.metrics import mean_squared_error\n",
    "\n",
    "# Generate sample data\n",
    "np.random.seed(42)\n",
    "X = np.linspace(-5, 5, 50).reshape(-1, 1)  # Reshape to 2D for sklearn\n",
    "y = 3 * X**2 + 2 * X + 5 + np.random.randn(50, 1) * 5  # Add noise\n",
    "\n",
    "# Transform features into polynomial features (degree 2)\n",
    "poly = PolynomialFeatures(degree=2)  # Change degree for different fits\n",
    "X_poly = poly.fit_transform(X)  # Creates [1, x, x^2]\n",
    "\n",
    "# Train a linear regression model on the polynomial features\n",
    "model = LinearRegression()\n",
    "model.fit(X_poly, y)\n",
    "\n",
    "# Predict values\n",
    "y_pred = model.predict(X_poly)\n",
    "\n",
    "plt.scatter(X, y, color='blue', label=\"Actual Data\")\n",
    "plt.plot(X, y_pred, color='red', linewidth=2, label=\"Polynomial Fit\")\n",
    "plt.xlabel(\"X\")\n",
    "plt.ylabel(\"y\")\n",
    "plt.legend()\n",
    "plt.title(\"Polynomial Regression (Degree 2)\")\n",
    "plt.show()\n",
    "\n",
    "mse = mean_squared_error(y, y_pred)\n",
    "r2 = model.score(X_poly, y)  # R-squared score\n",
    "print(f\"Mean Squared Error: {mse:.4f}\")\n",
    "print(f\"R-squared Score: {r2:.4f}\")\n"
   ]
  },
  {
   "cell_type": "code",
   "execution_count": null,
   "id": "ed73b192",
   "metadata": {},
   "outputs": [],
   "source": []
  }
 ],
 "metadata": {
  "kernelspec": {
   "display_name": "Python 3 (ipykernel)",
   "language": "python",
   "name": "python3"
  },
  "language_info": {
   "codemirror_mode": {
    "name": "ipython",
    "version": 3
   },
   "file_extension": ".py",
   "mimetype": "text/x-python",
   "name": "python",
   "nbconvert_exporter": "python",
   "pygments_lexer": "ipython3",
   "version": "3.11.3"
  }
 },
 "nbformat": 4,
 "nbformat_minor": 5
}
